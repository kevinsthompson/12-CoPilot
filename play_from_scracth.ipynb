{
 "cells": [
  {
   "cell_type": "code",
   "execution_count": null,
   "id": "d85bfb16",
   "metadata": {},
   "outputs": [],
   "source": [
    "{\n",
    "    \"cells\": [],\n",
    "    \"metadata\": {},\n",
    "    \"nbformat\": 4,\n",
    "    \"nbformat_minor\": 5\n",
    "}"
   ]
  },
  {
   "cell_type": "code",
   "execution_count": null,
   "id": "73f6a418",
   "metadata": {},
   "outputs": [],
   "source": [
    "\n",
    "\n",
    "\n",
    "# \"jupyter\": \"This is a Jupyter notebook.  Each cell is delimited by # %%.  Please can you start each cell with an enumerated cell number like # %% [Cell 1], # %% [Cell 2], etc. And please provide some debugging output as each cell starts to run and complete. Finally, please ensure that any code you provide is valid Python code that can run in a Jupyter notebook environment.:\"   "
   ]
  }
 ],
 "metadata": {
  "jupytext": {
   "cell_metadata_filter": "-all",
   "main_language": "python",
   "notebook_metadata_filter": "-all"
  }
 },
 "nbformat": 4,
 "nbformat_minor": 5
}
